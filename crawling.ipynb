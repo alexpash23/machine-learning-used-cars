{
 "cells": [
  {
   "cell_type": "markdown",
   "id": "a0e485e1",
   "metadata": {},
   "source": [
    "## First of all we will start with the import of the libraries"
   ]
  },
  {
   "cell_type": "code",
   "execution_count": null,
   "id": "482454b8",
   "metadata": {},
   "outputs": [],
   "source": [
    "import os\n",
    "import bs4 \n",
    "from bs4 import BeautifulSoup as bs\n",
    "import pandas as pd\n",
    "import requests\n",
    "pd.set_option(\"display.max_rows\", None, \"display.max_columns\", None)"
   ]
  },
  {
   "cell_type": "markdown",
   "id": "e9a4614b",
   "metadata": {},
   "source": [
    "## Create arrays for the columns of the data\n",
    "* Name\n",
    "* Mileage\n",
    "* Rating\n",
    "* Count Raiting\n",
    "* Price \n",
    "* links For any type of vehicle to extract additional data\n"
   ]
  },
  {
   "cell_type": "code",
   "execution_count": null,
   "id": "9588bad8",
   "metadata": {},
   "outputs": [],
   "source": [
    "Name=[]\n",
    "Mileage=[]\n",
    "Rating=[]\n",
    "CountRaiting=[]\n",
    "Price=[]\n",
    "year=[]\n",
    "link1=[]\n",
    "link2=[]\n",
    "link3=[]\n",
    "link4=[]\n",
    "link5=[]\n",
    "link6=[]\n",
    "link7=[]\n",
    "link7=[]\n",
    "link9=[]\n",
    "Exterior_color=[]\n",
    "Interior_color=[]\n",
    "Fuel_type=[]\n",
    "homeweb=\"https://www.cars.com\""
   ]
  },
  {
   "cell_type": "markdown",
   "id": "7315eb10",
   "metadata": {},
   "source": [
    "## Crawling \n",
    "*  toyota \n",
    "*  kia \n",
    "*  hyundai \n",
    "*  nissan \n",
    "*  mitsubishi \n",
    "*  volkswagen \n",
    "*  tesla \n",
    "*  kia "
   ]
  },
  {
   "cell_type": "markdown",
   "id": "04d5b09c",
   "metadata": {},
   "source": [
    "<img src=https://searchengineland.com/figz/wp-content/seloads/2019/05/shutterstock_1111362056.jpg wtdh=300>"
   ]
  },
  {
   "cell_type": "code",
   "execution_count": null,
   "id": "724ab90f",
   "metadata": {},
   "outputs": [],
   "source": [
    "#toyota\n",
    "for i in range(1,14):\n",
    "    website=\"https://www.cars.com/shopping/results/?page=\"+str(i)+\"&page_size=100&dealer_id=&keyword=&list_price_max=&list_price_min=&makes[]=toyota&maximum_distance=10&mileage_max=&models[]=toyota-corolla&sort=best_match_desc&stock_type=used&trims[]=toyota-corolla-le&year_max=&year_min=&zip=\"\n",
    "    \n",
    "    response = requests.get(website)\n",
    "    soup=bs(response.content,'html.parser')\n",
    "    cars=soup.find_all('div',attrs={'class':'vehicle-card'})\n",
    "    for car in cars:\n",
    "        try:\n",
    "            Name.append(car.find(\"h2\"))\n",
    "        except:\n",
    "            Name.append(\"NaN\")\n",
    "\n",
    "        try:\n",
    "            Mileage.append(car.find(\"div\",{\"class\":\"mileage\"}).get_text())\n",
    "        except:\n",
    "            Mileage.append(\"NaN\")\n",
    "\n",
    "        try:\n",
    "            CountRaiting.append(car.find(\"span\",{\"class\":\"sds-rating__link sds-button-link\"}).get_text())\n",
    "        except:\n",
    "            CountRaiting.append(\"NaN\")\n",
    "\n",
    "        try:\n",
    "            Rating.append(car.find(\"span\",{\"class\":\"sds-rating__count\"}).get_text())\n",
    "        except:\n",
    "            Rating.append(\"NaN\")\n",
    "\n",
    "        try:\n",
    "            Price.append(car.find(\"span\",{\"class\":\"primary-price\"}).get_text())\n",
    "        except:\n",
    "            Price.append(\"NaN\")\n",
    "        try:\n",
    "            link1.append(car.find(\"a\")[\"href\"])\n",
    "        except:\n",
    "            link1.append(\"NaN\")         "
   ]
  },
  {
   "cell_type": "code",
   "execution_count": null,
   "id": "436afca7",
   "metadata": {},
   "outputs": [],
   "source": [
    "Price"
   ]
  },
  {
   "cell_type": "code",
   "execution_count": null,
   "id": "befca0ad",
   "metadata": {},
   "outputs": [],
   "source": [
    "#kia\n",
    "for i in range(1,15):\n",
    "    website=\"https://www.cars.com/shopping/results/?page=\"+str(i)+\"&page_size=100&dealer_id=&keyword=&list_price_max=&list_price_min=&makes[]=kia&maximum_distance=10&mileage_max=&models[]=kia-sportage&sort=best_match_desc&stock_type=used&trims[]=kia-sportage-lx&year_max=&year_min=&zip=\"\n",
    "    \n",
    "    response = requests.get(website)\n",
    "    soup=bs(response.content,'html.parser')\n",
    "    cars=soup.find_all('div',attrs={'class':'vehicle-card'})\n",
    "    for car in cars:\n",
    "        try:\n",
    "            Name.append(car.find(\"h2\").get_text())\n",
    "        except:\n",
    "            Name.append(\"NaN\")\n",
    "\n",
    "        try:\n",
    "            Mileage.append(car.find(\"div\",{\"class\":\"mileage\"}).get_text())\n",
    "        except:\n",
    "            Mileage.append(\"NaN\")\n",
    "\n",
    "        try:\n",
    "            CountRaiting.append(car.find(\"span\",{\"class\":\"sds-rating__link sds-button-link\"}).get_text())\n",
    "        except:\n",
    "            CountRaiting.append(\"NaN\")\n",
    "\n",
    "        try:\n",
    "            Rating.append(car.find(\"span\",{\"class\":\"sds-rating__count\"}).get_text())\n",
    "        except:\n",
    "            Rating.append(\"NaN\")\n",
    "\n",
    "        try:\n",
    "            Price.append(car.find(\"span\",{\"class\":\"primary-price\"}).get_text())\n",
    "        except:\n",
    "            Price.append(\"NaN\")\n",
    "        try:\n",
    "            link1.append(car.find(\"a\")[\"href\"])\n",
    "        except:\n",
    "            link1.append(\"NaN\")         "
   ]
  },
  {
   "cell_type": "code",
   "execution_count": null,
   "id": "7ab2f7ca",
   "metadata": {},
   "outputs": [],
   "source": [
    "size=len(Name)\n",
    "print(size)"
   ]
  },
  {
   "cell_type": "code",
   "execution_count": null,
   "id": "6ba7d2c4",
   "metadata": {},
   "outputs": [],
   "source": [
    "#hyundai\n",
    "for i in range(1,12):\n",
    "    website=\"https://www.cars.com/shopping/results/?page=\"+str(i)+\"&page_size=100&dealer_id=&keyword=&list_price_max=&list_price_min=&makes[]=hyundai&maximum_distance=all&maximum_distance_expanded=1&maximum_distance_expanded_from=all&mileage_max=&models[]=hyundai-accent&models[]=hyundai-elantra&sort=best_match_desc&stock_type=used&trims[]=hyundai-accent-gls&trims[]=hyundai-elantra-gls&year_max=&year_min=&zip=\"\n",
    "    \n",
    "    response = requests.get(website)\n",
    "    soup=bs(response.content,'html.parser')\n",
    "    cars=soup.find_all('div',attrs={'class':'vehicle-card'})\n",
    "    for car in cars:\n",
    "        try:\n",
    "            Name.append(car.find(\"h2\").get_text())\n",
    "        except:\n",
    "            Name.append(\"NaN\")\n",
    "\n",
    "        try:\n",
    "            Mileage.append(car.find(\"div\",{\"class\":\"mileage\"}).get_text())\n",
    "        except:\n",
    "            Mileage.append(\"NaN\")\n",
    "\n",
    "        try:\n",
    "            CountRaiting.append(car.find(\"span\",{\"class\":\"sds-rating__link sds-button-link\"}).get_text())\n",
    "        except:\n",
    "            CountRaiting.append(\"NaN\")\n",
    "\n",
    "        try:\n",
    "            Rating.append(car.find(\"span\",{\"class\":\"sds-rating__count\"}).get_text())\n",
    "        except:\n",
    "            Rating.append(\"NaN\")\n",
    "\n",
    "        try:\n",
    "            Price.append(car.find(\"span\",{\"class\":\"primary-price\"}).get_text())\n",
    "        except:\n",
    "            Price.append(\"NaN\")\n",
    "        try:\n",
    "            link1.append(car.find(\"a\")[\"href\"])\n",
    "        except:\n",
    "            link1.append(\"NaN\")         "
   ]
  },
  {
   "cell_type": "code",
   "execution_count": null,
   "id": "b9e2339a",
   "metadata": {},
   "outputs": [],
   "source": [
    "size=len(Name)\n",
    "print(size)"
   ]
  },
  {
   "cell_type": "code",
   "execution_count": null,
   "id": "7defba3a",
   "metadata": {},
   "outputs": [],
   "source": [
    "#nissan\n",
    "for i in range(1,15):\n",
    "    website=\"https://www.cars.com/shopping/results/?page=\"+str(i)+\"&page_size=100&dealer_id=&keyword=&list_price_max=&list_price_min=&makes[]=nissan&maximum_distance=all&mileage_max=&models[]=nissan-sentra&sort=best_match_desc&stock_type=used&trims[]=nissan-sentra-s&trims[]=nissan-sentra-sr&year_max=&year_min=&zip=\"\n",
    "    \n",
    "    response = requests.get(website)\n",
    "    soup=bs(response.content,'html.parser')\n",
    "    cars=soup.find_all('div',attrs={'class':'vehicle-card'})\n",
    "    for car in cars:\n",
    "        try:\n",
    "            Name.append(car.find(\"h2\").get_text())\n",
    "        except:\n",
    "            Name.append(\"NaN\")\n",
    "\n",
    "        try:\n",
    "            Mileage.append(car.find(\"div\",{\"class\":\"mileage\"}).get_text())\n",
    "        except:\n",
    "            Mileage.append(\"NaN\")\n",
    "\n",
    "        try:\n",
    "            CountRaiting.append(car.find(\"span\",{\"class\":\"sds-rating__link sds-button-link\"}).get_text())\n",
    "        except:\n",
    "            CountRaiting.append(\"NaN\")\n",
    "\n",
    "        try:\n",
    "            Rating.append(car.find(\"span\",{\"class\":\"sds-rating__count\"}).get_text())\n",
    "        except:\n",
    "            Rating.append(\"NaN\")\n",
    "\n",
    "        try:\n",
    "            Price.append(car.find(\"span\",{\"class\":\"primary-price\"}).get_text())\n",
    "        except:\n",
    "            Price.append(\"NaN\")\n",
    "        try:\n",
    "            link1.append(car.find(\"a\")[\"href\"])\n",
    "        except:\n",
    "            link1.append(\"NaN\")         "
   ]
  },
  {
   "cell_type": "code",
   "execution_count": null,
   "id": "32e9993d",
   "metadata": {},
   "outputs": [],
   "source": [
    "#mitsubishi\n",
    "for i in range(1,11):\n",
    "    website=\"https://www.cars.com/shopping/results/?page=\"+str(i)+\"&page_size=100&dealer_id=&keyword=&list_price_max=&list_price_min=&makes[]=mitsubishi&maximum_distance=all&maximum_distance_expanded=1&maximum_distance_expanded_from=all&mileage_max=&models[]=mitsubishi-outlander&sort=best_match_desc&stock_type=used&trims[]=mitsubishi-outlander-es&trims[]=mitsubishi-outlander-se&year_max=&year_min=&zip=\"\n",
    "    \n",
    "    response = requests.get(website)\n",
    "    soup=bs(response.content,'html.parser')\n",
    "    cars=soup.find_all('div',attrs={'class':'vehicle-card'})\n",
    "    for car in cars:\n",
    "        try:\n",
    "            Name.append(car.find(\"h2\").get_text())\n",
    "        except:\n",
    "            Name.append(\"NaN\")\n",
    "\n",
    "        try:\n",
    "            Mileage.append(car.find(\"div\",{\"class\":\"mileage\"}).get_text())\n",
    "        except:\n",
    "            Mileage.append(\"NaN\")\n",
    "\n",
    "        try:\n",
    "            CountRaiting.append(car.find(\"span\",{\"class\":\"sds-rating__link sds-button-link\"}).get_text())\n",
    "        except:\n",
    "            CountRaiting.append(\"NaN\")\n",
    "\n",
    "        try:\n",
    "            Rating.append(car.find(\"span\",{\"class\":\"sds-rating__count\"}).get_text())\n",
    "        except:\n",
    "            Rating.append(\"NaN\")\n",
    "\n",
    "        try:\n",
    "            Price.append(car.find(\"span\",{\"class\":\"primary-price\"}).get_text())\n",
    "        except:\n",
    "            Price.append(\"NaN\")\n",
    "        try:\n",
    "            link1.append(car.find(\"a\")[\"href\"])\n",
    "        except:\n",
    "            link1.append(\"NaN\")         "
   ]
  },
  {
   "cell_type": "code",
   "execution_count": null,
   "id": "e5275a54",
   "metadata": {},
   "outputs": [],
   "source": [
    "#volkswagen\n",
    "for i in range(1,15):\n",
    "    website=\"https://www.cars.com/shopping/results/?page=\"+str(i)+\"&page_size=100&dealer_id=&keyword=&list_price_max=&list_price_min=&makes[]=volkswagen&maximum_distance=all&mileage_max=&models[]=volkswagen-jetta&sort=best_match_desc&stock_type=used&trims[]=volkswagen-jetta-1.4t_s&year_max=&year_min=&zip=\"\n",
    "    \n",
    "    response = requests.get(website)\n",
    "    soup=bs(response.content,'html.parser')\n",
    "    cars=soup.find_all('div',attrs={'class':'vehicle-card'})\n",
    "    for car in cars:\n",
    "        try:\n",
    "            Name.append(car.find(\"h2\").get_text())\n",
    "        except:\n",
    "            Name.append(\"NaN\")\n",
    "\n",
    "        try:\n",
    "            Mileage.append(car.find(\"div\",{\"class\":\"mileage\"}).get_text())\n",
    "        except:\n",
    "            Mileage.append(\"NaN\")\n",
    "\n",
    "        try:\n",
    "            CountRaiting.append(car.find(\"span\",{\"class\":\"sds-rating__link sds-button-link\"}).get_text())\n",
    "        except:\n",
    "            CountRaiting.append(\"NaN\")\n",
    "\n",
    "        try:\n",
    "            Rating.append(car.find(\"span\",{\"class\":\"sds-rating__count\"}).get_text())\n",
    "        except:\n",
    "            Rating.append(\"NaN\")\n",
    "\n",
    "        try:\n",
    "            Price.append(car.find(\"span\",{\"class\":\"primary-price\"}).get_text())\n",
    "        except:\n",
    "            Price.append(\"NaN\")\n",
    "        try:\n",
    "            link1.append(car.find(\"a\")[\"href\"])\n",
    "        except:\n",
    "            link1.append(\"NaN\")         "
   ]
  },
  {
   "cell_type": "code",
   "execution_count": null,
   "id": "ca31bbd5",
   "metadata": {},
   "outputs": [],
   "source": [
    "#tesla\n",
    "for i in range(1,15):\n",
    "    website=\"https://www.cars.com/shopping/results/?page=\"+str(i)+\"&page_size=100&dealer_id=&keyword=&list_price_max=&list_price_min=&makes[]=tesla&maximum_distance=all&mileage_max=&models[]=tesla-model_3&sort=best_match_desc&stock_type=used&trims[]=tesla-model_3-long_range&trims[]=tesla-model_3-performance&year_max=&year_min=&zip=\"\n",
    "    \n",
    "    response = requests.get(website)\n",
    "    soup=bs(response.content,'html.parser')\n",
    "    cars=soup.find_all('div',attrs={'class':'vehicle-card'})\n",
    "    for car in cars:\n",
    "        try:\n",
    "            Name.append(car.find(\"h2\").get_text())\n",
    "        except:\n",
    "            Name.append(\"NaN\")\n",
    "\n",
    "        try:\n",
    "            Mileage.append(car.find(\"div\",{\"class\":\"mileage\"}).get_text())\n",
    "        except:\n",
    "            Mileage.append(\"NaN\")\n",
    "\n",
    "        try:\n",
    "            CountRaiting.append(car.find(\"span\",{\"class\":\"sds-rating__link sds-button-link\"}).get_text())\n",
    "        except:\n",
    "            CountRaiting.append(\"NaN\")\n",
    "\n",
    "        try:\n",
    "            Rating.append(car.find(\"span\",{\"class\":\"sds-rating__count\"}).get_text())\n",
    "        except:\n",
    "            Rating.append(\"NaN\")\n",
    "\n",
    "        try:\n",
    "            Price.append(car.find(\"span\",{\"class\":\"primary-price\"}).get_text())\n",
    "        except:\n",
    "            Price.append(\"NaN\")\n",
    "        try:\n",
    "            link1.append(car.find(\"a\")[\"href\"])\n",
    "        except:\n",
    "            link1.append(\"NaN\")         "
   ]
  },
  {
   "cell_type": "code",
   "execution_count": null,
   "id": "c93daf07",
   "metadata": {},
   "outputs": [],
   "source": [
    "size=len(Name)\n",
    "print(size)"
   ]
  },
  {
   "cell_type": "markdown",
   "id": "39e31209",
   "metadata": {},
   "source": [
    "## After we have kept all the links of the vehicles We will now go through each and extract additional data\n",
    "\n",
    "# for example\n",
    "* Exterior color\n",
    "* Interior color\n",
    "* Fuel type\n"
   ]
  },
  {
   "cell_type": "code",
   "execution_count": null,
   "id": "dd9561a8",
   "metadata": {},
   "outputs": [],
   "source": [
    "Exterior_color=[]\n",
    "Interior_color=[]\n",
    "Fuel_type=[]\n",
    "cleaned_id__attrb_text=[]\n",
    "k=0\n",
    "for i in link1:\n",
    "    cleaned_id__attrb_text.clear()\n",
    "    site=homeweb+i\n",
    "    response = requests.get(site)\n",
    "    soup=bs(response.content,'html.parser')\n",
    "    cars=soup.find_all('dl',attrs={'class':'fancy-description-list'})\n",
    "    try:\n",
    "        for j in cars[0].find_all('dd'):\n",
    "            cleaned_id__attrb_text.append(j.text)\n",
    "        Exterior_color.append(cleaned_id__attrb_text[0])\n",
    "        Interior_color.append(cleaned_id__attrb_text[1])\n",
    "        Fuel_type.append(cleaned_id__attrb_text[4])\n",
    "        k+=1\n",
    "        print(k)\n",
    "    except:\n",
    "        print(-1)\n",
    "        Exterior_color.append(\"Nan\")\n",
    "        Interior_color.append(\"Nan\")\n",
    "        Fuel_type.append(\"Nan\")"
   ]
  },
  {
   "cell_type": "code",
   "execution_count": null,
   "id": "808b471c",
   "metadata": {},
   "outputs": [],
   "source": [
    "Name"
   ]
  },
  {
   "cell_type": "code",
   "execution_count": null,
   "id": "f39f1dc5",
   "metadata": {},
   "outputs": [],
   "source": [
    "name=[]"
   ]
  },
  {
   "cell_type": "markdown",
   "id": "7440b2e8",
   "metadata": {},
   "source": [
    "## Extract the year from the name of the vehicle"
   ]
  },
  {
   "cell_type": "code",
   "execution_count": null,
   "id": "2cf3af4b",
   "metadata": {},
   "outputs": [],
   "source": [
    "for i in Name:\n",
    "    name.append(i.split(maxsplit=1)[1])\n",
    "    year.append(i.split(maxsplit=1)[0])"
   ]
  },
  {
   "cell_type": "code",
   "execution_count": null,
   "id": "15d3a9f2",
   "metadata": {},
   "outputs": [],
   "source": [
    "Exterior_color"
   ]
  },
  {
   "cell_type": "markdown",
   "id": "d19baca6",
   "metadata": {},
   "source": [
    "## Create a pandas data Frame"
   ]
  },
  {
   "cell_type": "code",
   "execution_count": null,
   "id": "8e90256c",
   "metadata": {
    "scrolled": false
   },
   "outputs": [],
   "source": [
    "carsdf=pd.DataFrame({'Name':name,'Year':year,'Mileage':Mileage,'Count Raiting':CountRaiting,'Rating':Rating,'Fuel type':Fuel_type,'Interior color':Interior_color,'Exterior_color':Exterior_color,'Price':Price})\n",
    "carsdf['Count Raiting']=carsdf['Count Raiting'].apply(lambda x:x.strip(\"reviews)\").strip('('))  "
   ]
  },
  {
   "cell_type": "code",
   "execution_count": null,
   "id": "d9ade746",
   "metadata": {},
   "outputs": [],
   "source": [
    "carsdf"
   ]
  },
  {
   "cell_type": "code",
   "execution_count": null,
   "id": "d179af13",
   "metadata": {},
   "outputs": [],
   "source": [
    "carsdf.to_csv(\"updated_new_cars.csv\")"
   ]
  },
  {
   "cell_type": "code",
   "execution_count": null,
   "id": "c3b1ef3c",
   "metadata": {},
   "outputs": [],
   "source": []
  },
  {
   "cell_type": "code",
   "execution_count": null,
   "id": "898ae2aa",
   "metadata": {},
   "outputs": [],
   "source": []
  }
 ],
 "metadata": {
  "kernelspec": {
   "display_name": "Python 3",
   "language": "python",
   "name": "python3"
  },
  "language_info": {
   "codemirror_mode": {
    "name": "ipython",
    "version": 3
   },
   "file_extension": ".py",
   "mimetype": "text/x-python",
   "name": "python",
   "nbconvert_exporter": "python",
   "pygments_lexer": "ipython3",
   "version": "3.8.8"
  }
 },
 "nbformat": 4,
 "nbformat_minor": 5
}
